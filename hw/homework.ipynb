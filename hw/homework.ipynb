{
 "cells": [
  {
   "cell_type": "code",
   "execution_count": 2,
   "metadata": {},
   "outputs": [],
   "source": [
    "import pandas as pd"
   ]
  },
  {
   "cell_type": "code",
   "execution_count": 6,
   "metadata": {},
   "outputs": [
    {
     "name": "stdout",
     "output_type": "stream",
     "text": [
      "    Destinations  Scores   Star_Rating  Hotels_No Most_Visited_City\n",
      "0      Australia       3             4         15            Sydney\n",
      "1        Bahamas       9             3         12            Nassau\n",
      "2       Barbados       8             3         10        Bridgetown\n",
      "3         Brazil       6             3          9    Rio de Janeiro\n",
      "4         France       4             4         17             Paris\n",
      "5          Japan       7             3          8             Tokyo\n",
      "6          Kenya       6             3          7           Nairobi\n",
      "7       Malaysia       5             3         10      Kuala Lumpur\n",
      "8        Nigeria       4             3          9             Lagos\n",
      "9   South Africa       6             3          8      Johannesburg\n",
      "10         Spain       9             5         13         Barcelona\n",
      "11      Thailand       6             3          5           Bangkok\n",
      "12           UAE       7             5         28             Dubai\n",
      "13            UK       8             3         16            London\n",
      "14           USA       7             5         25     New York City\n"
     ]
    }
   ],
   "source": [
    "data = pd.read_csv(\"holiday.csv\")\n",
    "print(data)"
   ]
  },
  {
   "cell_type": "code",
   "execution_count": 7,
   "metadata": {},
   "outputs": [
    {
     "data": {
      "text/plain": [
       "(15, 5)"
      ]
     },
     "execution_count": 7,
     "metadata": {},
     "output_type": "execute_result"
    }
   ],
   "source": [
    "#How many rows and columns are there in your file?\n",
    "data.shape"
   ]
  },
  {
   "cell_type": "code",
   "execution_count": 10,
   "metadata": {},
   "outputs": [
    {
     "name": "stdout",
     "output_type": "stream",
     "text": [
      "  Destinations  Scores   Star_Rating  Hotels_No Most_Visited_City\n",
      "3       Brazil       6             3          9    Rio de Janeiro\n",
      "4       France       4             4         17             Paris\n",
      "5        Japan       7             3          8             Tokyo\n",
      "6        Kenya       6             3          7           Nairobi\n",
      "7     Malaysia       5             3         10      Kuala Lumpur\n",
      "8      Nigeria       4             3          9             Lagos\n"
     ]
    }
   ],
   "source": [
    "#Print row 3-8 ( using iloc/loc)\n",
    "print(data.iloc[3:9])"
   ]
  },
  {
   "cell_type": "code",
   "execution_count": 11,
   "metadata": {},
   "outputs": [
    {
     "data": {
      "text/plain": [
       "12.8"
      ]
     },
     "execution_count": 11,
     "metadata": {},
     "output_type": "execute_result"
    }
   ],
   "source": [
    "#Find the mean number of all inclusive hotels across all destinations\n",
    "data[\"Hotels_No\"].mean()"
   ]
  },
  {
   "cell_type": "code",
   "execution_count": 17,
   "metadata": {},
   "outputs": [],
   "source": [
    "#Create filter\n",
    "filter1 = data[\"Scores\"] > 5\n",
    "filter2 = data[\"Scores\"] <= 5"
   ]
  },
  {
   "cell_type": "code",
   "execution_count": 18,
   "metadata": {},
   "outputs": [
    {
     "name": "stdout",
     "output_type": "stream",
     "text": [
      "  Destinations  Scores   Star_Rating  Hotels_No Most_Visited_City\n",
      "0    Australia       3             4         15            Sydney\n",
      "4       France       4             4         17             Paris\n",
      "7     Malaysia       5             3         10      Kuala Lumpur\n",
      "8      Nigeria       4             3          9             Lagos\n"
     ]
    }
   ],
   "source": [
    "#Find the lowest scoring destination\n",
    "lowscore = data[filter2]\n",
    "\n",
    "print(lowscore)"
   ]
  },
  {
   "cell_type": "code",
   "execution_count": 19,
   "metadata": {},
   "outputs": [
    {
     "name": "stdout",
     "output_type": "stream",
     "text": [
      "    Destinations  Scores   Star_Rating  Hotels_No Most_Visited_City\n",
      "1        Bahamas       9             3         12            Nassau\n",
      "2       Barbados       8             3         10        Bridgetown\n",
      "3         Brazil       6             3          9    Rio de Janeiro\n",
      "5          Japan       7             3          8             Tokyo\n",
      "6          Kenya       6             3          7           Nairobi\n",
      "9   South Africa       6             3          8      Johannesburg\n",
      "10         Spain       9             5         13         Barcelona\n",
      "11      Thailand       6             3          5           Bangkok\n",
      "12           UAE       7             5         28             Dubai\n",
      "13            UK       8             3         16            London\n",
      "14           USA       7             5         25     New York City\n"
     ]
    }
   ],
   "source": [
    "#Find the highest scoring destination\n",
    "highscore = data[filter1]\n",
    "\n",
    "print(highscore)"
   ]
  },
  {
   "cell_type": "code",
   "execution_count": null,
   "metadata": {},
   "outputs": [],
   "source": [
    "#boolean indexing\n",
    "myfilter = data[\"score\"] > 8\n",
    "\n",
    "myfilter.head(15)"
   ]
  },
  {
   "cell_type": "code",
   "execution_count": null,
   "metadata": {},
   "outputs": [],
   "source": []
  }
 ],
 "metadata": {
  "interpreter": {
   "hash": "a29e1fb6683002b636560db254076994f59567f0270ab4cc0d58f0bc21ebc82f"
  },
  "kernelspec": {
   "display_name": "Python 3.10.2 64-bit",
   "language": "python",
   "name": "python3"
  },
  "language_info": {
   "codemirror_mode": {
    "name": "ipython",
    "version": 3
   },
   "file_extension": ".py",
   "mimetype": "text/x-python",
   "name": "python",
   "nbconvert_exporter": "python",
   "pygments_lexer": "ipython3",
   "version": "3.10.2"
  },
  "orig_nbformat": 4
 },
 "nbformat": 4,
 "nbformat_minor": 2
}
