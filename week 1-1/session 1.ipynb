{
 "cells": [
  {
   "cell_type": "code",
   "execution_count": 2,
   "metadata": {},
   "outputs": [
    {
     "name": "stdout",
     "output_type": "stream",
     "text": [
      "Hello World\n"
     ]
    }
   ],
   "source": [
    "print(\"Hello World\")"
   ]
  },
  {
   "cell_type": "code",
   "execution_count": 3,
   "metadata": {},
   "outputs": [
    {
     "name": "stdout",
     "output_type": "stream",
     "text": [
      "Hello Guys\n"
     ]
    }
   ],
   "source": [
    "print(\"Hello Guys\")"
   ]
  },
  {
   "cell_type": "code",
   "execution_count": 5,
   "metadata": {},
   "outputs": [
    {
     "name": "stdout",
     "output_type": "stream",
     "text": [
      "Hello Mrs.... Gray\n"
     ]
    }
   ],
   "source": [
    "surname = \"Gray\"\n",
    "print(\"Hello Mrs....\", surname)"
   ]
  },
  {
   "cell_type": "code",
   "execution_count": 6,
   "metadata": {},
   "outputs": [
    {
     "name": "stdout",
     "output_type": "stream",
     "text": [
      "The values are different\n"
     ]
    }
   ],
   "source": [
    "if 5 == 2:\n",
    "    print(\"1 = 1\")\n",
    "else:\n",
    "    print(\"The values are different\")"
   ]
  },
  {
   "cell_type": "code",
   "execution_count": 1,
   "metadata": {},
   "outputs": [],
   "source": [
    "import random"
   ]
  },
  {
   "cell_type": "code",
   "execution_count": 4,
   "metadata": {},
   "outputs": [
    {
     "name": "stdout",
     "output_type": "stream",
     "text": [
      "Well,OlakI am thinking of a number between 1 and 10.\n",
      "Wrong, better luck next time\n"
     ]
    }
   ],
   "source": [
    "#Task 1\n",
    "myName = input(\"Hello! What is your?\")\n",
    "number = random.randint(1,10)\n",
    "print(\"Well,\" + myName + \"I am thinking of a number between 1 and 10.\")\n",
    "guess = int(input(\"Take a guess:\"))\n",
    "\n",
    "if guess == number:\n",
    "    print(\"Good job,\" + myName + \"! You guessed my number\")\n",
    "Else:print(\"Wrong, better luck next time\")"
   ]
  },
  {
   "cell_type": "code",
   "execution_count": 7,
   "metadata": {},
   "outputs": [
    {
     "name": "stdout",
     "output_type": "stream",
     "text": [
      "Please Select your Favorite number between 1 and 100 for a joke?\n",
      "Turtles is a bush baby, but bush baby is not a turtles!\n",
      "\n",
      "Please Select your Favorite number between 1 and 100 for a joke?\n",
      "why do people like to answer questions with another question?\n",
      "\n",
      "Please Select your Favorite number between 1 and 100 for a joke?\n",
      "The way you laugh gives endless laughs\n"
     ]
    }
   ],
   "source": [
    "#Task 2\n",
    "print('Please Select your Favorite number between 1 and 100 for a joke?')\n",
    "input()\n",
    "print('Turtles is a bush baby, but bush baby is not a turtles!')\n",
    "print()\n",
    "print('Please Select your Favorite number between 1 and 100 for a joke?')\n",
    "input()\n",
    "print('why do people like to answer questions with another question?')\n",
    "print()\n",
    "print('Please Select your Favorite number between 1 and 100 for a joke?')\n",
    "input()\n",
    "print(\"The way you laugh gives endless laughs\")"
   ]
  },
  {
   "cell_type": "code",
   "execution_count": 12,
   "metadata": {},
   "outputs": [
    {
     "name": "stdout",
     "output_type": "stream",
     "text": [
      "Your favourite meal is.... Seedless Grape, Jollof Rice, Cake, with a glass of Coke\n"
     ]
    }
   ],
   "source": [
    "#Task 3\n",
    "user_input = input(\"What is your favourite starter? \")\n",
    "user_input1 = input(\"What is your favourite main course? \")\n",
    "user_input2 = input(\"What is your favourite dessert? \")\n",
    "user_input3 = input(\"What is your favourite drink? \")\n",
    "\n",
    "print(\"Your favourite meal is....\", user_input + \",\", user_input1 + \",\", user_input2 + \",\", \"with a glass of\", user_input3)"
   ]
  },
  {
   "cell_type": "markdown",
   "metadata": {},
   "source": [
    "#NUMPY HOME LEARNING PROJECT"
   ]
  },
  {
   "cell_type": "code",
   "execution_count": 1,
   "metadata": {},
   "outputs": [
    {
     "name": "stdout",
     "output_type": "stream",
     "text": [
      "Array from 0 to 9:\n",
      "[0 1 2 3 4 5 6 7 8]\n"
     ]
    }
   ],
   "source": [
    "#Create a 1D array of numbers from 0 to 9\n",
    "import numpy as np\n",
    "x = np.arange(9)\n",
    "print(\"Array from 0 to 9:\")\n",
    "print(x)"
   ]
  },
  {
   "cell_type": "code",
   "execution_count": 2,
   "metadata": {},
   "outputs": [
    {
     "name": "stdout",
     "output_type": "stream",
     "text": [
      "3x3 Numpy Array: \n",
      "[[ True  True  True]\n",
      " [ True  True  True]\n",
      " [ True  True  True]]\n"
     ]
    }
   ],
   "source": [
    "##Create a 3×3 NumPy array of all Boolean value Trues\n",
    "bool_arr = np.ones((3,3), dtype=bool)\n",
    "print('3x3 Numpy Array: ')\n",
    "print(bool_arr)"
   ]
  },
  {
   "cell_type": "code",
   "execution_count": 5,
   "metadata": {},
   "outputs": [
    {
     "name": "stdout",
     "output_type": "stream",
     "text": [
      "[0 1 2 3 4 5 6 7 8 9]\n",
      "[1 3 5 7 9]\n"
     ]
    }
   ],
   "source": [
    "#Extract all odd numbers from array of 1-10\n",
    "x = np.arange(10)\n",
    "print(x) \n",
    "\n",
    "# 2nd argument to add step above\n",
    "arrayodd = np.arange(1, 10, 2)\n",
    "\n",
    "print(arrayodd)\n"
   ]
  },
  {
   "cell_type": "code",
   "execution_count": 10,
   "metadata": {},
   "outputs": [
    {
     "name": "stdout",
     "output_type": "stream",
     "text": [
      "[-1  2 -1  4 -1  6 -1  8 -1 10]\n"
     ]
    }
   ],
   "source": [
    "#Replace all odd numbers in an array of 1-10 with the value -1\n",
    "a = np.array([ 1,  2,  3,  4,  5,  6,  7,  8,  9, 10]) \n",
    " \n",
    "odd_values = (a%2 == 1) \n",
    "a[odd_values] = -1 \n",
    "print(a)"
   ]
  },
  {
   "cell_type": "code",
   "execution_count": 18,
   "metadata": {},
   "outputs": [
    {
     "name": "stdout",
     "output_type": "stream",
     "text": [
      "[[20 15 10]\n",
      " [ 5 25 30]]\n"
     ]
    }
   ],
   "source": [
    "#Convert a 1D array to a 2D array with 2 rows\n",
    "array = np.array([20, 15, 10, 5, 25, 30])\n",
    "newShape = array.reshape(2, 3) \n",
    "\n",
    "print(newShape)"
   ]
  },
  {
   "cell_type": "code",
   "execution_count": 32,
   "metadata": {},
   "outputs": [
    {
     "name": "stdout",
     "output_type": "stream",
     "text": [
      "[[186 198 210]\n",
      " [321 342 363]\n",
      " [456 486 516]]\n",
      "3078\n"
     ]
    }
   ],
   "source": [
    "#Create two arrays a and b, stack these two arrays vertically use the np.dot and np.sum to calculate totals\n",
    "a = np.arange(3,12).reshape(3,3)\n",
    "b = np.arange(12,21).reshape(3,3)\n",
    "c = np.dot(a, b)\n",
    "print(c)\n",
    "\n",
    "total_sum = np.sum(c)\n",
    "print(total_sum)"
   ]
  },
  {
   "cell_type": "code",
   "execution_count": 36,
   "metadata": {},
   "outputs": [
    {
     "name": "stdout",
     "output_type": "stream",
     "text": [
      "[1 1 1 2 2 2 3 3 3 1 2 3 1 2 3 1 2 3]\n"
     ]
    }
   ],
   "source": [
    "#Create the following pattern without hardcoding. Use only NumPy functions.\n",
    "array_1  = np.array([1, 1, 1, 2, 2, 2, 3, 3, 3, 0, 0, 0, 0, 0, 0, 0, 0, 0])\n",
    "array_2  = np.array([0, 0, 0, 0, 0, 0, 0, 0, 0, 1, 2, 3, 1, 2, 3, 1, 2, 3])\n",
    "\n",
    "print(array_1 + array_2)"
   ]
  },
  {
   "cell_type": "code",
   "execution_count": 35,
   "metadata": {},
   "outputs": [
    {
     "name": "stdout",
     "output_type": "stream",
     "text": [
      "[1 1 1 2 2 2 3 3 3 1 2 3 1 2 3 1 2 3]\n"
     ]
    }
   ],
   "source": [
    "array_1 = np.array([1, 1, 1, 2, 2, 2, 3, 3, 3, 1, 2, 3, 1, 2, 3, 1, 2, 3])\n",
    "\n",
    "print(array_1)"
   ]
  }
 ],
 "metadata": {
  "interpreter": {
   "hash": "a29e1fb6683002b636560db254076994f59567f0270ab4cc0d58f0bc21ebc82f"
  },
  "kernelspec": {
   "display_name": "Python 3.10.2 64-bit",
   "language": "python",
   "name": "python3"
  },
  "language_info": {
   "codemirror_mode": {
    "name": "ipython",
    "version": 3
   },
   "file_extension": ".py",
   "mimetype": "text/x-python",
   "name": "python",
   "nbconvert_exporter": "python",
   "pygments_lexer": "ipython3",
   "version": "3.10.2"
  },
  "orig_nbformat": 4
 },
 "nbformat": 4,
 "nbformat_minor": 2
}
