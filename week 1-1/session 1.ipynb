{
 "cells": [
  {
   "cell_type": "code",
   "execution_count": 2,
   "metadata": {},
   "outputs": [
    {
     "name": "stdout",
     "output_type": "stream",
     "text": [
      "Hello World\n"
     ]
    }
   ],
   "source": [
    "print(\"Hello World\")"
   ]
  },
  {
   "cell_type": "code",
   "execution_count": 3,
   "metadata": {},
   "outputs": [
    {
     "name": "stdout",
     "output_type": "stream",
     "text": [
      "Hello Guys\n"
     ]
    }
   ],
   "source": [
    "print(\"Hello Guys\")"
   ]
  },
  {
   "cell_type": "code",
   "execution_count": 5,
   "metadata": {},
   "outputs": [
    {
     "name": "stdout",
     "output_type": "stream",
     "text": [
      "Hello Mrs.... Gray\n"
     ]
    }
   ],
   "source": [
    "surname = \"Gray\"\n",
    "print(\"Hello Mrs....\", surname)"
   ]
  },
  {
   "cell_type": "code",
   "execution_count": 6,
   "metadata": {},
   "outputs": [
    {
     "name": "stdout",
     "output_type": "stream",
     "text": [
      "The values are different\n"
     ]
    }
   ],
   "source": [
    "if 5 == 2:\n",
    "    print(\"1 = 1\")\n",
    "else:\n",
    "    print(\"The values are different\")"
   ]
  },
  {
   "cell_type": "code",
   "execution_count": 1,
   "metadata": {},
   "outputs": [],
   "source": [
    "import random"
   ]
  },
  {
   "cell_type": "code",
   "execution_count": 4,
   "metadata": {},
   "outputs": [
    {
     "name": "stdout",
     "output_type": "stream",
     "text": [
      "Well,OlakI am thinking of a number between 1 and 10.\n",
      "Wrong, better luck next time\n"
     ]
    }
   ],
   "source": [
    "#Task 1\n",
    "myName = input(\"Hello! What is your?\")\n",
    "number = random.randint(1,10)\n",
    "print(\"Well,\" + myName + \"I am thinking of a number between 1 and 10.\")\n",
    "guess = int(input(\"Take a guess:\"))\n",
    "\n",
    "if guess == number:\n",
    "    print(\"Good job,\" + myName + \"! You guessed my number\")\n",
    "Else:print(\"Wrong, better luck next time\")"
   ]
  },
  {
   "cell_type": "code",
   "execution_count": 7,
   "metadata": {},
   "outputs": [
    {
     "name": "stdout",
     "output_type": "stream",
     "text": [
      "Please Select your Favorite number between 1 and 100 for a joke?\n",
      "Turtles is a bush baby, but bush baby is not a turtles!\n",
      "\n",
      "Please Select your Favorite number between 1 and 100 for a joke?\n",
      "why do people like to answer questions with another question?\n",
      "\n",
      "Please Select your Favorite number between 1 and 100 for a joke?\n",
      "The way you laugh gives endless laughs\n"
     ]
    }
   ],
   "source": [
    "#Task 2\n",
    "print('Please Select your Favorite number between 1 and 100 for a joke?')\n",
    "input()\n",
    "print('Turtles is a bush baby, but bush baby is not a turtles!')\n",
    "print()\n",
    "print('Please Select your Favorite number between 1 and 100 for a joke?')\n",
    "input()\n",
    "print('why do people like to answer questions with another question?')\n",
    "print()\n",
    "print('Please Select your Favorite number between 1 and 100 for a joke?')\n",
    "input()\n",
    "print(\"The way you laugh gives endless laughs\")"
   ]
  },
  {
   "cell_type": "code",
   "execution_count": 12,
   "metadata": {},
   "outputs": [
    {
     "name": "stdout",
     "output_type": "stream",
     "text": [
      "Your favourite meal is.... Seedless Grape, Jollof Rice, Cake, with a glass of Coke\n"
     ]
    }
   ],
   "source": [
    "#Task 3\n",
    "user_input = input(\"What is your favourite starter? \")\n",
    "user_input1 = input(\"What is your favourite main course? \")\n",
    "user_input2 = input(\"What is your favourite dessert? \")\n",
    "user_input3 = input(\"What is your favourite drink? \")\n",
    "\n",
    "print(\"Your favourite meal is....\", user_input + \",\", user_input1 + \",\", user_input2 + \",\", \"with a glass of\", user_input3)"
   ]
  }
 ],
 "metadata": {
  "interpreter": {
   "hash": "a29e1fb6683002b636560db254076994f59567f0270ab4cc0d58f0bc21ebc82f"
  },
  "kernelspec": {
   "display_name": "Python 3.10.2 64-bit",
   "language": "python",
   "name": "python3"
  },
  "language_info": {
   "codemirror_mode": {
    "name": "ipython",
    "version": 3
   },
   "file_extension": ".py",
   "mimetype": "text/x-python",
   "name": "python",
   "nbconvert_exporter": "python",
   "pygments_lexer": "ipython3",
   "version": "3.10.2"
  },
  "orig_nbformat": 4
 },
 "nbformat": 4,
 "nbformat_minor": 2
}
